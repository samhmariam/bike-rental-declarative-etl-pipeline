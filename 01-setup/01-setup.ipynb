{
 "cells": [
  {
   "cell_type": "markdown",
   "metadata": {
    "application/vnd.databricks.v1+cell": {
     "cellMetadata": {},
     "inputWidgets": {},
     "nuid": "a9b65705-e42f-4906-a99b-abff4487e740",
     "showTitle": false,
     "tableResultSettingsMap": {},
     "title": ""
    }
   },
   "source": [
    "#### Setup"
   ]
  },
  {
   "cell_type": "markdown",
   "metadata": {
    "application/vnd.databricks.v1+cell": {
     "cellMetadata": {},
     "inputWidgets": {},
     "nuid": "79c960df-5bf0-4a44-acd2-d57609ad7c4b",
     "showTitle": false,
     "tableResultSettingsMap": {},
     "title": ""
    }
   },
   "source": [
    "#### 01. Create a Schema\n"
   ]
  },
  {
   "cell_type": "code",
   "execution_count": 0,
   "metadata": {
    "application/vnd.databricks.v1+cell": {
     "cellMetadata": {
      "byteLimit": 2048000,
      "rowLimit": 10000
     },
     "inputWidgets": {},
     "nuid": "d22b1fdf-9c8b-49e3-bafa-77f7786c38a9",
     "showTitle": false,
     "tableResultSettingsMap": {},
     "title": ""
    }
   },
   "outputs": [],
   "source": [
    "# Set catalog and create a database\n",
    "catalog_name = \"workspace\"\n",
    "database_name = \"bike_pipeline\"\n",
    "spark.sql(f\"USE CATALOG {catalog_name}\")\n",
    "spark.sql(f\"CREATE DATABASE IF NOT EXISTS {database_name}\")"
   ]
  },
  {
   "cell_type": "code",
   "execution_count": 0,
   "metadata": {
    "application/vnd.databricks.v1+cell": {
     "cellMetadata": {
      "byteLimit": 2048000,
      "rowLimit": 10000
     },
     "inputWidgets": {},
     "nuid": "21089abb-7fa5-4933-ba25-feb905d9f6d8",
     "showTitle": false,
     "tableResultSettingsMap": {},
     "title": ""
    }
   },
   "outputs": [],
   "source": [
    "# Use the database\n",
    "spark.sql(f\"USE {database_name}\")"
   ]
  },
  {
   "cell_type": "code",
   "execution_count": 0,
   "metadata": {
    "application/vnd.databricks.v1+cell": {
     "cellMetadata": {
      "byteLimit": 2048000,
      "rowLimit": 10000
     },
     "inputWidgets": {},
     "nuid": "a4d2323c-a9ff-497c-a945-5eb2fa9bbd8f",
     "showTitle": false,
     "tableResultSettingsMap": {},
     "title": ""
    }
   },
   "outputs": [],
   "source": [
    "# create a volume for raw_data\n",
    "volume_name = \"raw_data\"\n",
    "spark.sql(f\"CREATE VOLUME IF NOT EXISTS {volume_name}\")"
   ]
  },
  {
   "cell_type": "markdown",
   "metadata": {
    "application/vnd.databricks.v1+cell": {
     "cellMetadata": {},
     "inputWidgets": {},
     "nuid": "ccb6c975-cd2d-4d5b-9a23-ccc4cc6af801",
     "showTitle": false,
     "tableResultSettingsMap": {},
     "title": ""
    }
   },
   "source": [
    "#### 02. Load Raw Data"
   ]
  },
  {
   "cell_type": "code",
   "execution_count": 0,
   "metadata": {
    "application/vnd.databricks.v1+cell": {
     "cellMetadata": {
      "byteLimit": 2048000,
      "rowLimit": 10000
     },
     "inputWidgets": {},
     "nuid": "f4a011b5-98c8-42a9-897e-86abf7324719",
     "showTitle": false,
     "tableResultSettingsMap": {},
     "title": ""
    }
   },
   "outputs": [],
   "source": [
    "import shutil\n",
    "import os\n",
    "\n",
    "source_dir = \"/Volumes/workspace/dbdemos_pipeline_bike/raw_data/maintenance_logs/\"\n",
    "target_dir = f\"/Volumes/{catalog_name}/{database_name}/{volume_name}/maintenance_logs/\"\n",
    "\n",
    "dbutils.fs.mkdirs(target_dir)\n",
    "\n",
    "for file_info in dbutils.fs.ls(source_dir):\n",
    "    if file_info.name.endswith(\".csv\"):\n",
    "        src_path = file_info.path\n",
    "        dst_path = os.path.join(target_dir, file_info.name)\n",
    "        dbutils.fs.cp(src_path, dst_path)"
   ]
  },
  {
   "cell_type": "code",
   "execution_count": 0,
   "metadata": {
    "application/vnd.databricks.v1+cell": {
     "cellMetadata": {
      "byteLimit": 2048000,
      "rowLimit": 10000
     },
     "inputWidgets": {},
     "nuid": "c9355fc6-b611-4de1-bd34-c82222de81f5",
     "showTitle": false,
     "tableResultSettingsMap": {},
     "title": ""
    }
   },
   "outputs": [],
   "source": [
    "# Copy rides\n",
    "import shutil\n",
    "import os\n",
    "\n",
    "source_dir = \"/Volumes/workspace/dbdemos_pipeline_bike/raw_data/rides/\"\n",
    "target_dir = f\"/Volumes/{catalog_name}/{database_name}/{volume_name}/rides/\"\n",
    "\n",
    "dbutils.fs.mkdirs(target_dir)\n",
    "\n",
    "for file_info in dbutils.fs.ls(source_dir):\n",
    "    if file_info.name.endswith(\".csv\"):\n",
    "        src_path = file_info.path\n",
    "        dst_path = os.path.join(target_dir, file_info.name)\n",
    "        dbutils.fs.cp(src_path, dst_path)"
   ]
  },
  {
   "cell_type": "code",
   "execution_count": 0,
   "metadata": {
    "application/vnd.databricks.v1+cell": {
     "cellMetadata": {
      "byteLimit": 2048000,
      "rowLimit": 10000
     },
     "inputWidgets": {},
     "nuid": "6825cb49-000d-4f82-84f6-a18014bea519",
     "showTitle": false,
     "tableResultSettingsMap": {},
     "title": ""
    }
   },
   "outputs": [],
   "source": [
    "# Copy weather\n",
    "import shutil\n",
    "import os\n",
    "\n",
    "source_dir = \"/Volumes/workspace/dbdemos_pipeline_bike/raw_data/weather/\"\n",
    "target_dir = f\"/Volumes/{catalog_name}/{database_name}/{volume_name}/weather/\"\n",
    "\n",
    "dbutils.fs.mkdirs(target_dir)\n",
    "\n",
    "for file_info in dbutils.fs.ls(source_dir):\n",
    "    if file_info.name.endswith(\".json\"):\n",
    "        src_path = file_info.path\n",
    "        dst_path = os.path.join(target_dir, file_info.name)\n",
    "        dbutils.fs.cp(src_path, dst_path)"
   ]
  }
 ],
 "metadata": {
  "application/vnd.databricks.v1+notebook": {
   "computePreferences": null,
   "dashboards": [],
   "environmentMetadata": {
    "base_environment": "",
    "environment_version": "2"
   },
   "inputWidgetPreferences": null,
   "language": "python",
   "notebookMetadata": {
    "pythonIndentUnit": 4
   },
   "notebookName": "01-setup",
   "widgets": {}
  },
  "language_info": {
   "name": "python"
  }
 },
 "nbformat": 4,
 "nbformat_minor": 0
}
